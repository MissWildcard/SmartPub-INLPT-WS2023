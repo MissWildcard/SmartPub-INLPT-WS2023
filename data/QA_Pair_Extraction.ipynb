{
 "cells": [
  {
   "cell_type": "code",
   "execution_count": 35,
   "metadata": {
    "collapsed": true
   },
   "outputs": [
    {
     "name": "stderr",
     "output_type": "stream",
     "text": [
      "Using the latest cached version of the module from C:\\Users\\maria\\.cache\\huggingface\\modules\\datasets_modules\\datasets\\pubmed_qa\\dd4c39f031a958c7e782595fa4dd1b1330484e8bbadd4d9212e5046f27e68924 (last modified on Sun Dec 24 20:54:37 2023) since it couldn't be found locally at pubmed_qa., or remotely on the Hugging Face Hub.\n"
     ]
    },
    {
     "name": "stdout",
     "output_type": "stream",
     "text": [
      "Dataset Size:  211269\n",
      "Number of pairs before filtering: 211269\n",
      "Number of pairs after filtering: 253\n",
      "length of filtered dataset:  253\n",
      "Question: Is cognitive reserve a determinant of health-related quality of life in patients with cirrhosis , independent of covert hepatic encephalopathy and model for end-stage liver disease score?\n",
      "Long Answer: A higher cognitive reserve is associated with a better HRQOL in patients with cirrhosis, despite similar disease severity and prevalence. This indicates that patients with good cognitive reserve are better able to withstand the demands of cirrhosis progression and CHE, leading to a better HRQOL. Patients with lower cognitive reserve may need more dedicated and earlier measures to improve HRQOL. Cognitive reserve should be considered when interpreting HRQOL and cognitive tests to evaluate patients with cirrhosis.\n",
      "Final Answer: yes\n",
      "Context: {'contexts': ['Covert hepatic encephalopathy (CHE) is associated with cognitive dysfunction, which affects daily function and health-related quality of life (HRQOL) in patients with cirrhosis. The effects of CHE and liver disease are determined by cognitive reserve—the ability of the brain to cope with increasing damage while continuing to function—and are assessed by composite intelligence quotient (IQ) scores. We examined cognitive reserve as a determinant of HRQOL in patients with cirrhosis.', 'We performed a prospective study of 118 outpatients with cirrhosis without overt HE (age, 56 y). We studied cognition using the standard paper-pencil battery; patients with below-normal results for more than 2 tests were considered to have CHE. We also assessed HRQOL (using the sickness impact profile [SIP]), psychosocial and physical scores (a high score indicates reduced HRQOL), model for end-stage liver disease (MELD) scores, and cognitive reserve (using the Barona Index, a validated IQ analysis, based on age, race, education, residence area, and occupation). Cognitive reserve was divided into average and high groups (<109 or >109), and MELD and SIP scores were compared. We performed regression analyses, using total SIP score and psychosocial and physical dimensions as outcomes, with cognitive reserve, CHE, and MELD score as predictors.', 'Study participants had average MELD scores of 9, and 14 years of education; 81% were white, 63% were urban residents, their mean IQ was 108 ± 8, and 54% had average cognitive reserve (the remaining 46% had high reserves). CHE was diagnosed in 49% of patients. Cognitive reserve was lower in patients with CHE (109) than without (105; P = .02). Cognitive reserve correlated with total SIP and psychosocial score (both r = -0.4; P < .001) and physical score (r = -0.3; P = .01), but not MELD score (P = .8). Patients with high cognitive reserve had a better HRQOL, despite similar MELD scores. In regression analyses, cognitive reserve was a significant predictor of total SIP (P < .001), psychosocial (P < .001), and physical scores (P < .03), independent of CHE, MELD, or psychiatric disorders.'], 'labels': ['OBJECTIVE', 'METHODS', 'RESULTS'], 'meshes': ['Cognitive Reserve', 'End Stage Liver Disease', 'Female', 'Hepatic Encephalopathy', 'Humans', 'Liver Cirrhosis', 'Male', 'Middle Aged', 'Prospective Studies', 'Quality of Life']}\n",
      "--------------------------------------------------\n",
      "Question: Does gRIN2B mediate susceptibility to intelligence quotient and cognitive impairments in developmental dyslexia?\n",
      "Long Answer: Our results add further evidence in support of GRIN2B contributing toward DD and deficits in DD. More specifically, our data support the view that GRIN2B influences DD as a categorical trait and its related quantitative phenotypes, thus shedding further light on the etiologic basis and the phenotypic complexity of this disorder.\n",
      "Final Answer: yes\n",
      "Context: {'contexts': ['Developmental dyslexia (DD) is a complex heritable condition associated with impairments in multiple neurocognitive domains. Substantial heritability has been reported for DD and related phenotypes, and candidate genes have been identified. Recently, a candidate gene for human cognitive processes, that is, GRIN2B, has been found to be associated significantly with working memory in a German DD sample. In this study, we explored the contribution of six GRIN2B markers to DD and key DD-related phenotypes by association analyses in a sample of Italian nuclear families. Moreover, we assessed potential gene-by-environment interactions on DD-related phenotypes.', 'We carried out a family-based association study to determine whether the GRIN2B gene influences both DD as a categorical trait and its related cognitive traits in a large cohort of 466 Italian nuclear families ascertained through a proband affected by DD. Moreover, we tested the role of the selected GRIN2B markers and a set of commonly described environmental moderators using a test for G×E interaction in sib pair-based association analysis of quantitative traits in 178 Italian nuclear families.', 'Evidence for a significant association was found with the categorical diagnosis of DD, performance intelligence quotient, phonemic elision, and auditory short-term memory. No significant gene-by-environment effects were found.'], 'labels': ['OBJECTIVE', 'METHODS', 'RESULTS'], 'meshes': ['Adolescent', 'Child', 'Cognition Disorders', 'Dyslexia', 'Environment', 'Female', 'Genotype', 'Humans', 'Intelligence', 'Intelligence Tests', 'Male', 'Phenotype', 'Polymorphism, Single Nucleotide', 'Receptors, N-Methyl-D-Aspartate']}\n",
      "--------------------------------------------------\n",
      "Question: Do interictal epileptiform discharges have an independent association with cognitive impairment in children with lesional epilepsy?\n",
      "Long Answer: Overall, IED effects on cognition were of a magnitude similar to lesional influences or drug effects (topiramate use). This study demonstrates an association between IEDs and cognitive dysfunction, independent of the underlying focal brain pathology.\n",
      "Final Answer: yes\n",
      "Context: {'contexts': ['The relative contribution of interictal epileptiform discharges (IEDs) to cognitive dysfunction in comparison with the underlying brain pathology is not yet understood in children with lesional focal epilepsy.', 'The current study investigated the association of IEDs with intellectual functioning in 103 children with medication-resistant focal epilepsy. Hierarchical multiple regression analyses were used to determine the independent contribution of IED features on intellectual functioning, after controlling for effects of lesional pathology, epilepsy duration, and medication. Exploratory analyses were conducted for language and memory scores as well as academic skills available in a subset of participants.', 'The results reveal that IEDs have a negative association with IQ with independent, additive effects documented for frequent and bilaterally distributed IEDs as well as discharge enhancement in sleep. Left-lateralized IEDs had a prominent effect on verbal intelligence, in excess of the influence of left-sided brain pathology. These effects extended to other cognitive functions, most prominently for sleep-enhanced IEDs to be associated with deficits in expressive and receptive language, reading, spelling and numerical skills.'], 'labels': ['OBJECTIVE', 'METHODS', 'RESULTS'], 'meshes': ['Adolescent', 'Anticonvulsants', 'Brain', 'Brain Waves', 'Child', 'Cognition Disorders', 'Electroencephalography', 'Epilepsy', 'Female', 'Fructose', 'Humans', 'Intelligence', 'Male', 'Neuroimaging', 'Neuropsychological Tests', 'Regression Analysis', 'Retrospective Studies', 'Sleep', 'Statistics, Nonparametric', 'Topiramate', 'Wakefulness']}\n",
      "--------------------------------------------------\n",
      "Question: Is minor neurological dysfunction in five year old very preterm children associated with lower processing speed?\n",
      "Long Answer: Five year old VP children with c-MND have lower PSQ, slower reaction time, and poorer motor skills, than those without c-MND. Neurological examination should include identification of MND to help identify children at risk for neurocognitive disabilities.\n",
      "Final Answer: yes\n",
      "Context: {'contexts': ['Minor neurological dysfunction (MND) is present in one quarter to one third of children born very preterm (VP). The more severe form, complex (c)-MND has been associated with learning disabilities, behavioural and motor problems.', 'To study the association between c-MND and neurocognitive and motor disabilities at age five in VP children without CP.', 'Ninety-four children born with gestational age<30weeks and/or a birth weight<1000g were assessed at five years corrected age. MND was classified according to Touwen. The Wechsler Preschool and Primary School Scale of Intelligence (WPPSI-III-NL) was used to measure intelligence. Simple reaction time, focused attention and visuomotor coordination were measured using the Amsterdam Neuropsychological Tasks, and working memory using a Digit Span Task. For motor skills the Movement Assessment Battery for children (M-ABC2) was used.', \"Eighty-one percent was classified as 'normal' (no or simple (s-)-MND) and 19% as 'abnormal'(c-MND or mild CP). The abnormal group had a significantly lower processing speed quotient (PSQ), M-ABC percentile score and slower simple Reaction Time than the normal group. Verbal IQ, Performance IQ, working memory, focused attention and visuomotor coordination did not differ between groups. Exclusion of the mild CP cases (n=4) led to similar results.\"], 'labels': ['BACKGROUND', 'OBJECTIVE', 'METHODS', 'RESULTS'], 'meshes': ['Child', 'Child Development', 'Cognition', 'Female', 'Humans', 'Infant, Newborn', 'Infant, Premature', 'Infant, Very Low Birth Weight', 'Intelligence', 'Male', 'Neurodevelopmental Disorders', 'Psychomotor Performance', 'Reaction Time']}\n",
      "--------------------------------------------------\n",
      "Question: Does interictal epileptic discharge correlate with global and frontal cognitive dysfunction in temporal lobe epilepsy?\n",
      "Long Answer: In patients with TLE of long duration, IED occurrence was strongly related to cognitive deficits, most pronounced for frontal lobe function. These data suggest that IEDs reflect dysfunctional brain circuitry and may serve as an independent biomarker for cognitive comorbidity.\n",
      "Final Answer: yes\n",
      "Context: {'contexts': ['Temporal lobe epilepsy (TLE) with hippocampal sclerosis has widespread effects on structural and functional connectivity and often entails cognitive dysfunction. EEG is mandatory to disentangle interactions in epileptic and physiological networks which underlie these cognitive comorbidities. Here, we examined how interictal epileptic discharges (IEDs) affect cognitive performance.', 'Thirty-four patients (right TLE=17, left TLE=17) were examined with 24-hour video-EEG and a battery of neuropsychological tests to measure intelligence quotient and separate frontal and temporal lobe functions. Hippocampal segmentation of high-resolution T1-weighted imaging was performed with FreeSurfer. Partial correlations were used to compare the number and distribution of clinical interictal spikes and sharp waves with data from imagery and psychological tests.', 'The number of IEDs was negatively correlated with executive functions, including verbal fluency and intelligence quotient (IQ). Interictal epileptic discharge affected cognitive function in patients with left and right TLE differentially, with verbal fluency strongly related to temporofrontal spiking. In contrast, IEDs had no clear effects on memory functions after corrections with partial correlations for age, age at disease onset, disease duration, and hippocampal volume.'], 'labels': ['OBJECTIVE', 'METHODS', 'RESULTS'], 'meshes': ['Adolescent', 'Adult', 'Child', 'Child, Preschool', 'Cognition', 'Cognitive Dysfunction', 'Electroencephalography', 'Epilepsy, Temporal Lobe', 'Executive Function', 'Female', 'Frontal Lobe', 'Humans', 'Male', 'Neuropsychological Tests', 'Temporal Lobe', 'Young Adult']}\n",
      "--------------------------------------------------\n",
      "Filtered dataset saved to filtered_qa_dataset.csv\n"
     ]
    }
   ],
   "source": [
    "import pandas as pd\n",
    "from datasets import load_dataset\n",
    "\n",
    "def extract_qa_dataset_with_keyword( keyword='intelligence', split='train'):\n",
    "    # Load the specified dataset\n",
    "    dataset = load_dataset('pubmed_qa', 'pqa_artificial', split=split)\n",
    "    #Check size for debugging\n",
    "    print('Dataset Size: ', len(dataset))\n",
    "    # Extract questions, answers, and contexts\n",
    "    questions = dataset['question']\n",
    "    long_answers = dataset['long_answer']\n",
    "    final_answers = dataset['final_decision']\n",
    "    contexts = dataset['context']\n",
    "\n",
    "    # Filter questions and two type of answers based on the presence of the keyword in the context\n",
    "    filtered_qa_pairs = []\n",
    "\n",
    "    for q, la, fa, c in zip(questions, long_answers, final_answers, contexts):\n",
    "        if 'contexts' in c and isinstance(c['contexts'], list):\n",
    "            if any(keyword in str(element).lower() for element in c['contexts'] if isinstance(element, str)):\n",
    "                filtered_qa_pairs.append((q, la, fa, c))\n",
    "\n",
    "    # Print information for debugging\n",
    "    print(f\"Number of pairs before filtering: {len(questions)}\")\n",
    "    print(f\"Number of pairs after filtering: {len(filtered_qa_pairs)}\")\n",
    "\n",
    "    return filtered_qa_pairs\n",
    "\n",
    "# Example usage: Extracting the 'pubmedqa' dataset with keyword 'intelligence'\n",
    "keyword = 'intelligence'\n",
    "split = 'train'\n",
    "filtered_pubmedqa_qa_dataset = extract_qa_dataset_with_keyword(keyword, split)\n",
    "\n",
    "print('length of filtered dataset: ', len(filtered_pubmedqa_qa_dataset))\n",
    "\n",
    "# Display the first few pairs in the filtered dataset\n",
    "for i in range(min(5, len(filtered_pubmedqa_qa_dataset))):\n",
    "    print(f\"Question: {filtered_pubmedqa_qa_dataset[i][0]}\")\n",
    "    print(f\"Long Answer: {filtered_pubmedqa_qa_dataset[i][1]}\")\n",
    "    print(f\"Final Answer: {filtered_pubmedqa_qa_dataset[i][2]}\")\n",
    "    print(f\"Context: {filtered_pubmedqa_qa_dataset[i][3]}\")\n",
    "    print('-' * 50)\n",
    "\n",
    "# Convert the filtered dataset to a DataFrame\n",
    "df = pd.DataFrame(filtered_pubmedqa_qa_dataset, columns=['Question', 'LongAnswer', 'Yes/No', 'Contexts'])\n",
    "\n",
    "# Save the DataFrame to a CSV file\n",
    "csv_filename = 'filtered_qa_dataset.csv'\n",
    "df.to_csv(csv_filename, index=False)\n",
    "\n",
    "print(f\"Filtered dataset saved to {csv_filename}\")"
   ]
  },
  {
   "cell_type": "code",
   "execution_count": 5,
   "outputs": [
    {
     "name": "stdout",
     "output_type": "stream",
     "text": [
      "Keys in the 'context' dictionary: dict_keys(['contexts', 'labels', 'meshes', 'reasoning_required_pred', 'reasoning_free_pred'])\n",
      "Original 'context' value: {'contexts': ['Programmed cell death (PCD) is the regulated death of cells within an organism. The lace plant (Aponogeton madagascariensis) produces perforations in its leaves through PCD. The leaves of the plant consist of a latticework of longitudinal and transverse veins enclosing areoles. PCD occurs in the cells at the center of these areoles and progresses outwards, stopping approximately five cells from the vasculature. The role of mitochondria during PCD has been recognized in animals; however, it has been less studied during PCD in plants.', 'The following paper elucidates the role of mitochondrial dynamics during developmentally regulated PCD in vivo in A. madagascariensis. A single areole within a window stage leaf (PCD is occurring) was divided into three areas based on the progression of PCD; cells that will not undergo PCD (NPCD), cells in early stages of PCD (EPCD), and cells in late stages of PCD (LPCD). Window stage leaves were stained with the mitochondrial dye MitoTracker Red CMXRos and examined. Mitochondrial dynamics were delineated into four categories (M1-M4) based on characteristics including distribution, motility, and membrane potential (ΔΨm). A TUNEL assay showed fragmented nDNA in a gradient over these mitochondrial stages. Chloroplasts and transvacuolar strands were also examined using live cell imaging. The possible importance of mitochondrial permeability transition pore (PTP) formation during PCD was indirectly examined via in vivo cyclosporine A (CsA) treatment. This treatment resulted in lace plant leaves with a significantly lower number of perforations compared to controls, and that displayed mitochondrial dynamics similar to that of non-PCD cells.'], 'labels': ['BACKGROUND', 'RESULTS'], 'meshes': ['Alismataceae', 'Apoptosis', 'Cell Differentiation', 'Mitochondria', 'Plant Leaves'], 'reasoning_required_pred': ['y', 'e', 's'], 'reasoning_free_pred': ['y', 'e', 's']}\n"
     ]
    }
   ],
   "source": [
    "from datasets import load_dataset\n",
    "\n",
    "def verify_context_keys(dataset_name, split='train'):\n",
    "    # Load the specified dataset\n",
    "    dataset = load_dataset('pubmed_qa', 'pqa_labeled', split=split)\n",
    "\n",
    "    # Print the keys of the 'context' dictionary for the first example\n",
    "    first_example_context = dataset['context'][0]\n",
    "    print(\"Keys in the 'context' dictionary:\", first_example_context.keys())\n",
    "    print(\"Original 'context' value:\", str(first_example_context))\n",
    "\n",
    "# Example usage: Verifying keys in the 'context' dictionary\n",
    "dataset_name = 'pubmed_qa'\n",
    "verify_context_keys(dataset_name)\n"
   ],
   "metadata": {
    "collapsed": false
   }
  },
  {
   "cell_type": "code",
   "execution_count": 12,
   "outputs": [],
   "source": [],
   "metadata": {
    "collapsed": false
   }
  },
  {
   "cell_type": "code",
   "execution_count": 12,
   "outputs": [],
   "source": [
    "\n"
   ],
   "metadata": {
    "collapsed": false
   }
  },
  {
   "cell_type": "code",
   "execution_count": null,
   "outputs": [],
   "source": [],
   "metadata": {
    "collapsed": false
   }
  }
 ],
 "metadata": {
  "kernelspec": {
   "display_name": "Python 3",
   "language": "python",
   "name": "python3"
  },
  "language_info": {
   "codemirror_mode": {
    "name": "ipython",
    "version": 2
   },
   "file_extension": ".py",
   "mimetype": "text/x-python",
   "name": "python",
   "nbconvert_exporter": "python",
   "pygments_lexer": "ipython2",
   "version": "2.7.6"
  }
 },
 "nbformat": 4,
 "nbformat_minor": 0
}
