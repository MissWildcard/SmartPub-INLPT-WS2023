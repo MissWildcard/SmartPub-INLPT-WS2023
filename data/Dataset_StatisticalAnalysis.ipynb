{
 "cells": [
  {
   "cell_type": "code",
   "execution_count": 23,
   "metadata": {
    "collapsed": true
   },
   "outputs": [],
   "source": [
    "# Install necessary libraries if not already installed\n",
    "# !pip install pandas matplotlib seaborn\n",
    "from collections import Counter\n",
    "from nltk.tokenize import word_tokenize\n",
    "from nltk.corpus import stopwords\n",
    "import csv\n",
    "import numpy as np\n",
    "import pandas as pd\n",
    "import matplotlib.pyplot as plt\n",
    "import seaborn as sns\n",
    "import networkx as nx\n",
    "from pyvis.network import Network\n"
   ]
  },
  {
   "cell_type": "code",
   "execution_count": 4,
   "outputs": [
    {
     "data": {
      "text/plain": "         PMID                                              Title  \\\n0  29288871.0  Neurobiology of the dorsolateral prefrontal co...   \n1  29288867.0  Differential effects of childhood neglect and ...   \n2  29287301.0  [Position Paper of The AG Digital Health DNVF ...   \n3  29287217.0  Association of white matter diffusion characte...   \n4  29286945.0  An Interpretable Machine Learning Model for Ac...   \n\n                                            Abstract  \\\n0  INTRODUCTION: The neurometabolism underlying t...   \n1  The hippocampus is a highly stress susceptible...   \n2  The term \"digital health\" is currently the mos...   \n3  OBJECTIVE: The purpose of this study was to ev...   \n4  OBJECTIVES: Sepsis is among the leading causes...   \n\n                                           Key_words  \\\n0  ['Adult', 'Anxiety/diagnostic imaging/*metabol...   \n1  ['Adolescent', 'Adult', '*Adult Survivors of C...   \n2  ['Decision Making', '*Delivery of Health Care'...   \n3  ['Adult', 'Anisotropy', 'Case-Control Studies'...   \n4  ['Academic Medical Centers', 'Age Factors', 'A...   \n\n                                             Authors           Journal  \\\n0  ['Coplan, Jeremy D', 'Webler, Ryan', 'Gopinath...   J Affect Disord   \n1  ['Teicher, Martin H', 'Anderson, Carl M', 'Oha...        Neuroimage   \n2  ['Vollmar, Horst Christian', 'Kramer, Ursula',...  Gesundheitswesen   \n3  ['Rodriguez-Cruces, Raul', 'Velazquez-Perez, L...    Epilepsy Behav   \n4  ['Nemati, Shamim', 'Holder, Andre', 'Razmi, Fe...     Crit Care Med   \n\n     Year  Month                                             Source  \\\n0  2017.0   12.0  J Affect Disord. 2018 Mar 15;229:1-13. doi: 10...   \n1  2017.0   12.0  Neuroimage. 2018 Apr 1;169:443-452. doi: 10.10...   \n2  2017.0   12.0  Gesundheitswesen. 2017 Dec;79(12):1080-1092. d...   \n3  2017.0   12.0  Epilepsy Behav. 2018 Feb;79:138-145. doi: 10.1...   \n4  2017.0   12.0  Crit Care Med. 2018 Apr;46(4):547-553. doi: 10...   \n\n         Country  \n0            USA  \n1  United States  \n2           Jena  \n3         Mexico  \n4             GA  ",
      "text/html": "<div>\n<style scoped>\n    .dataframe tbody tr th:only-of-type {\n        vertical-align: middle;\n    }\n\n    .dataframe tbody tr th {\n        vertical-align: top;\n    }\n\n    .dataframe thead th {\n        text-align: right;\n    }\n</style>\n<table border=\"1\" class=\"dataframe\">\n  <thead>\n    <tr style=\"text-align: right;\">\n      <th></th>\n      <th>PMID</th>\n      <th>Title</th>\n      <th>Abstract</th>\n      <th>Key_words</th>\n      <th>Authors</th>\n      <th>Journal</th>\n      <th>Year</th>\n      <th>Month</th>\n      <th>Source</th>\n      <th>Country</th>\n    </tr>\n  </thead>\n  <tbody>\n    <tr>\n      <th>0</th>\n      <td>29288871.0</td>\n      <td>Neurobiology of the dorsolateral prefrontal co...</td>\n      <td>INTRODUCTION: The neurometabolism underlying t...</td>\n      <td>['Adult', 'Anxiety/diagnostic imaging/*metabol...</td>\n      <td>['Coplan, Jeremy D', 'Webler, Ryan', 'Gopinath...</td>\n      <td>J Affect Disord</td>\n      <td>2017.0</td>\n      <td>12.0</td>\n      <td>J Affect Disord. 2018 Mar 15;229:1-13. doi: 10...</td>\n      <td>USA</td>\n    </tr>\n    <tr>\n      <th>1</th>\n      <td>29288867.0</td>\n      <td>Differential effects of childhood neglect and ...</td>\n      <td>The hippocampus is a highly stress susceptible...</td>\n      <td>['Adolescent', 'Adult', '*Adult Survivors of C...</td>\n      <td>['Teicher, Martin H', 'Anderson, Carl M', 'Oha...</td>\n      <td>Neuroimage</td>\n      <td>2017.0</td>\n      <td>12.0</td>\n      <td>Neuroimage. 2018 Apr 1;169:443-452. doi: 10.10...</td>\n      <td>United States</td>\n    </tr>\n    <tr>\n      <th>2</th>\n      <td>29287301.0</td>\n      <td>[Position Paper of The AG Digital Health DNVF ...</td>\n      <td>The term \"digital health\" is currently the mos...</td>\n      <td>['Decision Making', '*Delivery of Health Care'...</td>\n      <td>['Vollmar, Horst Christian', 'Kramer, Ursula',...</td>\n      <td>Gesundheitswesen</td>\n      <td>2017.0</td>\n      <td>12.0</td>\n      <td>Gesundheitswesen. 2017 Dec;79(12):1080-1092. d...</td>\n      <td>Jena</td>\n    </tr>\n    <tr>\n      <th>3</th>\n      <td>29287217.0</td>\n      <td>Association of white matter diffusion characte...</td>\n      <td>OBJECTIVE: The purpose of this study was to ev...</td>\n      <td>['Adult', 'Anisotropy', 'Case-Control Studies'...</td>\n      <td>['Rodriguez-Cruces, Raul', 'Velazquez-Perez, L...</td>\n      <td>Epilepsy Behav</td>\n      <td>2017.0</td>\n      <td>12.0</td>\n      <td>Epilepsy Behav. 2018 Feb;79:138-145. doi: 10.1...</td>\n      <td>Mexico</td>\n    </tr>\n    <tr>\n      <th>4</th>\n      <td>29286945.0</td>\n      <td>An Interpretable Machine Learning Model for Ac...</td>\n      <td>OBJECTIVES: Sepsis is among the leading causes...</td>\n      <td>['Academic Medical Centers', 'Age Factors', 'A...</td>\n      <td>['Nemati, Shamim', 'Holder, Andre', 'Razmi, Fe...</td>\n      <td>Crit Care Med</td>\n      <td>2017.0</td>\n      <td>12.0</td>\n      <td>Crit Care Med. 2018 Apr;46(4):547-553. doi: 10...</td>\n      <td>GA</td>\n    </tr>\n  </tbody>\n</table>\n</div>"
     },
     "execution_count": 4,
     "metadata": {},
     "output_type": "execute_result"
    }
   ],
   "source": [
    "# Load the CSV dataset into a DataFrame\n",
    "data_file_path = 'AllData.csv'  # Replace with your actual file path\n",
    "df = pd.read_csv(data_file_path)\n",
    "# Display the first few rows of the dataset\n",
    "df.head()"
   ],
   "metadata": {
    "collapsed": false
   }
  },
  {
   "cell_type": "code",
   "execution_count": 50,
   "outputs": [
    {
     "name": "stdout",
     "output_type": "stream",
     "text": [
      "Number of entries in the dataset: 52596\n"
     ]
    }
   ],
   "source": [
    "# Get count of dataset entries\n",
    "dataset_entries_count = df.shape[0]\n",
    "print(\"Number of entries in the dataset:\", dataset_entries_count)"
   ],
   "metadata": {
    "collapsed": false
   }
  },
  {
   "cell_type": "code",
   "execution_count": 6,
   "outputs": [
    {
     "name": "stdout",
     "output_type": "stream",
     "text": [
      "Column Names: Index(['PMID', 'Title', 'Abstract', 'Key_words', 'Authors', 'Journal', 'Year',\n",
      "       'Month', 'Source', 'Country'],\n",
      "      dtype='object')\n"
     ]
    }
   ],
   "source": [
    "# Understand the column names\n",
    "print(\"Column Names:\", df.columns)"
   ],
   "metadata": {
    "collapsed": false
   }
  },
  {
   "cell_type": "code",
   "execution_count": 7,
   "outputs": [
    {
     "name": "stdout",
     "output_type": "stream",
     "text": [
      "<class 'pandas.core.frame.DataFrame'>\n",
      "RangeIndex: 52607 entries, 0 to 52606\n",
      "Data columns (total 10 columns):\n",
      " #   Column     Non-Null Count  Dtype  \n",
      "---  ------     --------------  -----  \n",
      " 0   PMID       52596 non-null  float64\n",
      " 1   Title      52596 non-null  object \n",
      " 2   Abstract   49052 non-null  object \n",
      " 3   Key_words  49326 non-null  object \n",
      " 4   Authors    52437 non-null  object \n",
      " 5   Journal    52521 non-null  object \n",
      " 6   Year       52596 non-null  float64\n",
      " 7   Month      52596 non-null  float64\n",
      " 8   Source     52521 non-null  object \n",
      " 9   Country    50685 non-null  object \n",
      "dtypes: float64(3), object(7)\n",
      "memory usage: 4.0+ MB\n"
     ]
    }
   ],
   "source": [
    "# Basic statistics and information about the dataset\n",
    "df.info()"
   ],
   "metadata": {
    "collapsed": false
   }
  },
  {
   "cell_type": "code",
   "execution_count": 48,
   "outputs": [
    {
     "name": "stdout",
     "output_type": "stream",
     "text": [
      "Results saved to keyword_distribution.csv\n"
     ]
    }
   ],
   "source": [
    "# Extract keywords from abstracts\n",
    "stop_words = set(stopwords.words('english'))\n",
    "\n",
    "#Function to extract keywords from each title\n",
    "def extract_keywords(text):\n",
    "    if isinstance(text, str):\n",
    "        tokens = word_tokenize(text.lower())\n",
    "        keywords = [word for word in tokens if word.isalpha() and word not in stop_words]\n",
    "        return keywords\n",
    "    elif isinstance(text, float) and np.isnan(text):\n",
    "        return []  # Return an empty list for NaN values\n",
    "    else:\n",
    "        raise ValueError(\"Input must be a string or NaN\")\n",
    "\n",
    "df['year'] = df['Year'].fillna(0).astype(int)\n",
    "df = df[(df['year'] >= 2013) & (df['year'] <= 2023)]\n",
    "df['Keywords'] = df['Title'].apply(extract_keywords)\n",
    "\n",
    "# Group by Year and Analyze Keywords\n",
    "keyword_distribution = df.groupby('year')['Keywords'].apply(lambda x: Counter(word for keywords in x for word in keywords))\n",
    "\n",
    "# Write the output distribution to a CSV file\n",
    "output_file_path = 'keyword_distribution.csv'\n",
    "keyword_distribution.to_csv(output_file_path)\n",
    "print(f'Results saved to {output_file_path}' )"
   ],
   "metadata": {
    "collapsed": false
   }
  },
  {
   "cell_type": "code",
   "execution_count": null,
   "outputs": [],
   "source": [],
   "metadata": {
    "collapsed": false
   }
  }
 ],
 "metadata": {
  "kernelspec": {
   "display_name": "Python 3",
   "language": "python",
   "name": "python3"
  },
  "language_info": {
   "codemirror_mode": {
    "name": "ipython",
    "version": 2
   },
   "file_extension": ".py",
   "mimetype": "text/x-python",
   "name": "python",
   "nbconvert_exporter": "python",
   "pygments_lexer": "ipython2",
   "version": "2.7.6"
  }
 },
 "nbformat": 4,
 "nbformat_minor": 0
}
